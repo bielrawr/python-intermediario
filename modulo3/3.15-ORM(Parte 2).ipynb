{
 "cells": [
  {
   "cell_type": "markdown",
   "metadata": {},
   "source": [
    "## Exercícios\n",
    "\n",
    "> Retirados de [learn-python: sqlalchemy_orm-questions](https://aviadr1.github.io/learn-advanced-python/11_db_access/exercise/sqlalchemy_orm-questions.html).\n",
    "\n",
    "#### Q1.\n",
    "\n",
    "Baixa e extraia o arquivo compactado com o banco de dados [Chinook database](https://www.sqlitetutorial.net/sqlite-sample-database/). Salve o arquivo `chinook.db` na mesma pasta deste script.\n",
    "* Link para baixar: http://www.sqlitetutorial.net/wp-content/uploads/2018/03/chinook.zip\n",
    "\n",
    "<img width=500 src=https://www.sqlitetutorial.net/wp-content/uploads/2015/11/sqlite-sample-database-color.jpg>\n"
   ]
  },
  {
   "cell_type": "markdown",
   "metadata": {},
   "source": [
    "#### Q2.\n",
    "\n",
    "Leia o código e os comentários das células a seguir para entender como acessamos os modelos ORM de um banco já existente."
   ]
  },
  {
   "cell_type": "code",
   "execution_count": 9,
   "metadata": {
    "vscode": {
     "languageId": "plaintext"
    }
   },
   "outputs": [
    {
     "name": "stdout",
     "output_type": "stream",
     "text": [
      "albums\n",
      "['AlbumId', 'Title', 'ArtistId']\n",
      "[('AlbumId', Column('AlbumId', INTEGER(), table=<albums>, primary_key=True, nullable=False)), ('Title', Column('Title', NVARCHAR(length=160), table=<albums>, nullable=False)), ('ArtistId', Column('ArtistId', INTEGER(), ForeignKey('artists.ArtistId'), table=<albums>, nullable=False))]\n",
      "-------------------------\n",
      "artists\n",
      "['ArtistId', 'Name']\n",
      "[('ArtistId', Column('ArtistId', INTEGER(), table=<artists>, primary_key=True, nullable=False)), ('Name', Column('Name', NVARCHAR(length=120), table=<artists>))]\n",
      "-------------------------\n",
      "customers\n",
      "['CustomerId', 'FirstName', 'LastName', 'Company', 'Address', 'City', 'State', 'Country', 'PostalCode', 'Phone', 'Fax', 'Email', 'SupportRepId']\n",
      "[('CustomerId', Column('CustomerId', INTEGER(), table=<customers>, primary_key=True, nullable=False)), ('FirstName', Column('FirstName', NVARCHAR(length=40), table=<customers>, nullable=False)), ('LastName', Column('LastName', NVARCHAR(length=20), table=<customers>, nullable=False)), ('Company', Column('Company', NVARCHAR(length=80), table=<customers>)), ('Address', Column('Address', NVARCHAR(length=70), table=<customers>)), ('City', Column('City', NVARCHAR(length=40), table=<customers>)), ('State', Column('State', NVARCHAR(length=40), table=<customers>)), ('Country', Column('Country', NVARCHAR(length=40), table=<customers>)), ('PostalCode', Column('PostalCode', NVARCHAR(length=10), table=<customers>)), ('Phone', Column('Phone', NVARCHAR(length=24), table=<customers>)), ('Fax', Column('Fax', NVARCHAR(length=24), table=<customers>)), ('Email', Column('Email', NVARCHAR(length=60), table=<customers>, nullable=False)), ('SupportRepId', Column('SupportRepId', INTEGER(), ForeignKey('employees.EmployeeId'), table=<customers>))]\n",
      "-------------------------\n",
      "employees\n",
      "['EmployeeId', 'LastName', 'FirstName', 'Title', 'ReportsTo', 'BirthDate', 'HireDate', 'Address', 'City', 'State', 'Country', 'PostalCode', 'Phone', 'Fax', 'Email']\n",
      "[('EmployeeId', Column('EmployeeId', INTEGER(), table=<employees>, primary_key=True, nullable=False)), ('LastName', Column('LastName', NVARCHAR(length=20), table=<employees>, nullable=False)), ('FirstName', Column('FirstName', NVARCHAR(length=20), table=<employees>, nullable=False)), ('Title', Column('Title', NVARCHAR(length=30), table=<employees>)), ('ReportsTo', Column('ReportsTo', INTEGER(), ForeignKey('employees.EmployeeId'), table=<employees>)), ('BirthDate', Column('BirthDate', DATETIME(), table=<employees>)), ('HireDate', Column('HireDate', DATETIME(), table=<employees>)), ('Address', Column('Address', NVARCHAR(length=70), table=<employees>)), ('City', Column('City', NVARCHAR(length=40), table=<employees>)), ('State', Column('State', NVARCHAR(length=40), table=<employees>)), ('Country', Column('Country', NVARCHAR(length=40), table=<employees>)), ('PostalCode', Column('PostalCode', NVARCHAR(length=10), table=<employees>)), ('Phone', Column('Phone', NVARCHAR(length=24), table=<employees>)), ('Fax', Column('Fax', NVARCHAR(length=24), table=<employees>)), ('Email', Column('Email', NVARCHAR(length=60), table=<employees>))]\n",
      "-------------------------\n",
      "genres\n",
      "['GenreId', 'Name']\n",
      "[('GenreId', Column('GenreId', INTEGER(), table=<genres>, primary_key=True, nullable=False)), ('Name', Column('Name', NVARCHAR(length=120), table=<genres>))]\n",
      "-------------------------\n",
      "invoice_items\n",
      "['InvoiceLineId', 'InvoiceId', 'TrackId', 'UnitPrice', 'Quantity']\n",
      "[('InvoiceLineId', Column('InvoiceLineId', INTEGER(), table=<invoice_items>, primary_key=True, nullable=False)), ('InvoiceId', Column('InvoiceId', INTEGER(), ForeignKey('invoices.InvoiceId'), table=<invoice_items>, nullable=False)), ('TrackId', Column('TrackId', INTEGER(), ForeignKey('tracks.TrackId'), table=<invoice_items>, nullable=False)), ('UnitPrice', Column('UnitPrice', NUMERIC(precision=10, scale=2), table=<invoice_items>, nullable=False)), ('Quantity', Column('Quantity', INTEGER(), table=<invoice_items>, nullable=False))]\n",
      "-------------------------\n",
      "tracks\n",
      "['TrackId', 'Name', 'AlbumId', 'MediaTypeId', 'GenreId', 'Composer', 'Milliseconds', 'Bytes', 'UnitPrice']\n",
      "[('TrackId', Column('TrackId', INTEGER(), table=<tracks>, primary_key=True, nullable=False)), ('Name', Column('Name', NVARCHAR(length=200), table=<tracks>, nullable=False)), ('AlbumId', Column('AlbumId', INTEGER(), ForeignKey('albums.AlbumId'), table=<tracks>)), ('MediaTypeId', Column('MediaTypeId', INTEGER(), ForeignKey('media_types.MediaTypeId'), table=<tracks>, nullable=False)), ('GenreId', Column('GenreId', INTEGER(), ForeignKey('genres.GenreId'), table=<tracks>)), ('Composer', Column('Composer', NVARCHAR(length=220), table=<tracks>)), ('Milliseconds', Column('Milliseconds', INTEGER(), table=<tracks>, nullable=False)), ('Bytes', Column('Bytes', INTEGER(), table=<tracks>)), ('UnitPrice', Column('UnitPrice', NUMERIC(precision=10, scale=2), table=<tracks>, nullable=False))]\n",
      "-------------------------\n",
      "media_types\n",
      "['MediaTypeId', 'Name']\n",
      "[('MediaTypeId', Column('MediaTypeId', INTEGER(), table=<media_types>, primary_key=True, nullable=False)), ('Name', Column('Name', NVARCHAR(length=120), table=<media_types>))]\n",
      "-------------------------\n",
      "invoices\n",
      "['InvoiceId', 'CustomerId', 'InvoiceDate', 'BillingAddress', 'BillingCity', 'BillingState', 'BillingCountry', 'BillingPostalCode', 'Total']\n",
      "[('InvoiceId', Column('InvoiceId', INTEGER(), table=<invoices>, primary_key=True, nullable=False)), ('CustomerId', Column('CustomerId', INTEGER(), ForeignKey('customers.CustomerId'), table=<invoices>, nullable=False)), ('InvoiceDate', Column('InvoiceDate', DATETIME(), table=<invoices>, nullable=False)), ('BillingAddress', Column('BillingAddress', NVARCHAR(length=70), table=<invoices>)), ('BillingCity', Column('BillingCity', NVARCHAR(length=40), table=<invoices>)), ('BillingState', Column('BillingState', NVARCHAR(length=40), table=<invoices>)), ('BillingCountry', Column('BillingCountry', NVARCHAR(length=40), table=<invoices>)), ('BillingPostalCode', Column('BillingPostalCode', NVARCHAR(length=10), table=<invoices>)), ('Total', Column('Total', NUMERIC(precision=10, scale=2), table=<invoices>, nullable=False))]\n",
      "-------------------------\n",
      "playlist_track\n",
      "['PlaylistId', 'TrackId']\n",
      "[('PlaylistId', Column('PlaylistId', INTEGER(), ForeignKey('playlists.PlaylistId'), table=<playlist_track>, primary_key=True, nullable=False)), ('TrackId', Column('TrackId', INTEGER(), ForeignKey('tracks.TrackId'), table=<playlist_track>, primary_key=True, nullable=False))]\n",
      "-------------------------\n",
      "playlists\n",
      "['PlaylistId', 'Name']\n",
      "[('PlaylistId', Column('PlaylistId', INTEGER(), table=<playlists>, primary_key=True, nullable=False)), ('Name', Column('Name', NVARCHAR(length=120), table=<playlists>))]\n",
      "-------------------------\n",
      "[('media_types', <class 'sqlalchemy.ext.automap.media_types'>), ('tracks', <class 'sqlalchemy.ext.automap.tracks'>), ('artists', <class 'sqlalchemy.ext.automap.artists'>), ('employees', <class 'sqlalchemy.ext.automap.employees'>), ('genres', <class 'sqlalchemy.ext.automap.genres'>), ('playlists', <class 'sqlalchemy.ext.automap.playlists'>), ('albums', <class 'sqlalchemy.ext.automap.albums'>), ('customers', <class 'sqlalchemy.ext.automap.customers'>), ('invoice_items', <class 'sqlalchemy.ext.automap.invoice_items'>), ('invoices', <class 'sqlalchemy.ext.automap.invoices'>)]\n"
     ]
    }
   ],
   "source": [
    "from sqlalchemy import create_engine, text, MetaData\n",
    "from sqlalchemy.orm import Session\n",
    "from sqlalchemy import select\n",
    "\n",
    "engine = create_engine(\"sqlite+pysqlite:///chinook.db\", echo=False)\n",
    "\n",
    "### extrai as classes da base de dados Chinook\n",
    "metadata = MetaData()\n",
    "metadata.reflect(engine)\n",
    "\n",
    "# O metadata tem informações sobre as tabelas\n",
    "# que serão usadas para criar os modelos ORM\n",
    "for table_name, table in metadata.tables.items():\n",
    "    print(table_name)\n",
    "    print(table.columns.keys())\n",
    "    print(table.columns.items())\n",
    "    print('-'*25)\n",
    "\n",
    "### configura o objeto Base mapeando os modelos ORM das tabelas\n",
    "from sqlalchemy.ext.automap import automap_base\n",
    "Base = automap_base(metadata=metadata)\n",
    "Base.prepare()\n",
    "\n",
    "# o objeto Base tem os modelos ORM que podemos usar\n",
    "# para manipular o banco de dados\n",
    "print(Base.classes.items())"
   ]
  },
  {
   "cell_type": "code",
   "execution_count": 10,
   "metadata": {
    "vscode": {
     "languageId": "plaintext"
    }
   },
   "outputs": [
    {
     "name": "stdout",
     "output_type": "stream",
     "text": [
      "1 For Those About To Rock We Salute You\n"
     ]
    }
   ],
   "source": [
    "# A seguir um exemplo de query na tabela Albums\n",
    "# usamos o objeto Base para acessar cada modelo ORM.\n",
    "\n",
    "session = Session(engine)\n",
    "res = session.scalars(select(Base.classes.albums))\n",
    "first_album = res.first()\n",
    "print(first_album.AlbumId, first_album.Title)"
   ]
  },
  {
   "cell_type": "markdown",
   "metadata": {},
   "source": [
    "#### Q3. \n",
    "Com base nos códigos anteriores realize as operações solicitadas nas células a seguir:\n"
   ]
  },
  {
   "cell_type": "code",
   "execution_count": 3,
   "metadata": {
    "vscode": {
     "languageId": "plaintext"
    }
   },
   "outputs": [
    {
     "name": "stdout",
     "output_type": "stream",
     "text": [
      "Três primeiros registros da tabela tracks:\n",
      "TrackId: 1, Name: For Those About To Rock (We Salute You), AlbumId: 1\n",
      "TrackId: 2, Name: Balls to the Wall, AlbumId: 2\n",
      "TrackId: 3, Name: Fast As a Shark, AlbumId: 3\n"
     ]
    }
   ],
   "source": [
    "### Imprima os três primeiros registros da tabela tracks\n",
    "from sqlalchemy.orm import Session\n",
    "from sqlalchemy import select\n",
    "\n",
    "session = Session(engine)\n",
    "\n",
    "# Selecionar os 3 primeiros registros da tabela tracks\n",
    "query = select(Base.classes.tracks).limit(3)\n",
    "result = session.execute(query).scalars().all()\n",
    "\n",
    "# Imprimir os resultados\n",
    "print(\"Três primeiros registros da tabela tracks:\")\n",
    "for track in result:\n",
    "    print(f\"TrackId: {track.TrackId}, Name: {track.Name}, AlbumId: {track.AlbumId}\")\n",
    "\n",
    "session.close()"
   ]
  },
  {
   "cell_type": "code",
   "execution_count": 4,
   "metadata": {
    "vscode": {
     "languageId": "plaintext"
    }
   },
   "outputs": [
    {
     "name": "stdout",
     "output_type": "stream",
     "text": [
      "Nome da faixa e título do álbum das primeiras 20 faixas:\n",
      "Track: For Those About To Rock (We Salute You), Album: For Those About To Rock We Salute You\n",
      "Track: Put The Finger On You, Album: For Those About To Rock We Salute You\n",
      "Track: Let's Get It Up, Album: For Those About To Rock We Salute You\n",
      "Track: Inject The Venom, Album: For Those About To Rock We Salute You\n",
      "Track: Snowballed, Album: For Those About To Rock We Salute You\n",
      "Track: Evil Walks, Album: For Those About To Rock We Salute You\n",
      "Track: C.O.D., Album: For Those About To Rock We Salute You\n",
      "Track: Breaking The Rules, Album: For Those About To Rock We Salute You\n",
      "Track: Night Of The Long Knives, Album: For Those About To Rock We Salute You\n",
      "Track: Spellbound, Album: For Those About To Rock We Salute You\n",
      "Track: Balls to the Wall, Album: Balls to the Wall\n",
      "Track: Fast As a Shark, Album: Restless and Wild\n",
      "Track: Restless and Wild, Album: Restless and Wild\n",
      "Track: Princess of the Dawn, Album: Restless and Wild\n",
      "Track: Go Down, Album: Let There Be Rock\n",
      "Track: Dog Eat Dog, Album: Let There Be Rock\n",
      "Track: Let There Be Rock, Album: Let There Be Rock\n",
      "Track: Bad Boy Boogie, Album: Let There Be Rock\n",
      "Track: Problem Child, Album: Let There Be Rock\n",
      "Track: Overdose, Album: Let There Be Rock\n"
     ]
    }
   ],
   "source": [
    "### Imprima o nome da faixa e o título do álbum das primeiras 20 faixas na tabela tracks.\n",
    "from sqlalchemy.orm import Session\n",
    "from sqlalchemy import select\n",
    "\n",
    "session = Session(engine)\n",
    "\n",
    "# Selecionar nome da faixa e título do álbum das primeiras 20 faixas\n",
    "query = (\n",
    "    select(Base.classes.tracks.Name, Base.classes.albums.Title)\n",
    "    .join(Base.classes.albums, Base.classes.tracks.AlbumId == Base.classes.albums.AlbumId)\n",
    "    .limit(20)\n",
    ")\n",
    "result = session.execute(query).all()\n",
    "\n",
    "# Imprimir os resultados\n",
    "print(\"Nome da faixa e título do álbum das primeiras 20 faixas:\")\n",
    "for row in result:\n",
    "    print(f\"Track: {row.Name}, Album: {row.Title}\")\n",
    "\n",
    "session.close()"
   ]
  },
  {
   "cell_type": "code",
   "execution_count": 6,
   "metadata": {
    "vscode": {
     "languageId": "plaintext"
    }
   },
   "outputs": [
    {
     "name": "stdout",
     "output_type": "stream",
     "text": [
      "10 primeiras vendas da tabela invoice_items:\n",
      "InvoiceId: 1, TrackId: 2, UnitPrice: 0.99, Quantity: 1\n",
      "InvoiceId: 1, TrackId: 4, UnitPrice: 0.99, Quantity: 1\n",
      "InvoiceId: 2, TrackId: 6, UnitPrice: 0.99, Quantity: 1\n",
      "InvoiceId: 2, TrackId: 8, UnitPrice: 0.99, Quantity: 1\n",
      "InvoiceId: 2, TrackId: 10, UnitPrice: 0.99, Quantity: 1\n",
      "InvoiceId: 2, TrackId: 12, UnitPrice: 0.99, Quantity: 1\n",
      "InvoiceId: 3, TrackId: 16, UnitPrice: 0.99, Quantity: 1\n",
      "InvoiceId: 3, TrackId: 20, UnitPrice: 0.99, Quantity: 1\n",
      "InvoiceId: 3, TrackId: 24, UnitPrice: 0.99, Quantity: 1\n",
      "InvoiceId: 3, TrackId: 28, UnitPrice: 0.99, Quantity: 1\n",
      "Nomes das faixas e quantidades das 10 primeiras vendas:\n",
      "Track: Balls to the Wall, Quantity: 1\n",
      "Track: Restless and Wild, Quantity: 1\n",
      "Track: Put The Finger On You, Quantity: 1\n",
      "Track: Inject The Venom, Quantity: 1\n",
      "Track: Evil Walks, Quantity: 1\n",
      "Track: Breaking The Rules, Quantity: 1\n",
      "Track: Dog Eat Dog, Quantity: 1\n",
      "Track: Overdose, Quantity: 1\n",
      "Track: Love In An Elevator, Quantity: 1\n",
      "Track: Janie's Got A Gun, Quantity: 1\n"
     ]
    }
   ],
   "source": [
    "### Imprima as 10 primeiras vendas de faixas da tabela invoice_items\n",
    "from sqlalchemy.orm import Session\n",
    "from sqlalchemy import select\n",
    "\n",
    "session = Session(engine)\n",
    "\n",
    "# Selecionar as 10 primeiras vendas da tabela invoice_items\n",
    "query = select(Base.classes.invoice_items).limit(10)\n",
    "result = session.execute(query).scalars().all()\n",
    "\n",
    "# Imprimir os resultados\n",
    "print(\"10 primeiras vendas da tabela invoice_items:\")\n",
    "for item in result:\n",
    "    print(f\"InvoiceId: {item.InvoiceId}, TrackId: {item.TrackId}, UnitPrice: {item.UnitPrice}, Quantity: {item.Quantity}\")\n",
    "\n",
    "session.close()\n",
    "\n",
    "### Para essas 10 primeiras vendas, imprima os nomes das faixas vendidas e a quantidade vendida.\n",
    "from sqlalchemy.orm import Session\n",
    "from sqlalchemy import select\n",
    "\n",
    "session = Session(engine)\n",
    "\n",
    "# Selecionar nome da faixa e quantidade das 10 primeiras vendas\n",
    "query = (\n",
    "    select(Base.classes.tracks.Name, Base.classes.invoice_items.Quantity)\n",
    "    .join(Base.classes.tracks, Base.classes.invoice_items.TrackId == Base.classes.tracks.TrackId)\n",
    "    .limit(10)\n",
    ")\n",
    "result = session.execute(query).all()\n",
    "\n",
    "# Imprimir os resultados\n",
    "print(\"Nomes das faixas e quantidades das 10 primeiras vendas:\")\n",
    "for row in result:\n",
    "    print(f\"Track: {row.Name}, Quantity: {row.Quantity}\")\n",
    "\n",
    "session.close()\n"
   ]
  },
  {
   "cell_type": "code",
   "execution_count": 7,
   "metadata": {
    "vscode": {
     "languageId": "plaintext"
    }
   },
   "outputs": [
    {
     "name": "stdout",
     "output_type": "stream",
     "text": [
      "10 faixas mais vendidas e quantas vezes foram vendidas:\n",
      "Track: Balls to the Wall, Total Sold: 2\n",
      "Track: Inject The Venom, Total Sold: 2\n",
      "Track: Snowballed, Total Sold: 2\n",
      "Track: Overdose, Total Sold: 2\n",
      "Track: Deuces Are Wild, Total Sold: 2\n",
      "Track: Not The Doctor, Total Sold: 2\n",
      "Track: Por Causa De Você, Total Sold: 2\n",
      "Track: Welcome Home (Sanitarium), Total Sold: 2\n",
      "Track: Snowblind, Total Sold: 2\n",
      "Track: Cornucopia, Total Sold: 2\n"
     ]
    }
   ],
   "source": [
    "### Imprima os nomes das 10 faixas mais vendidas e quantas vezes foram vendidas.\n",
    "from sqlalchemy.orm import Session\n",
    "from sqlalchemy import select, func\n",
    "\n",
    "session = Session(engine)\n",
    "\n",
    "# Selecionar as 10 faixas mais vendidas\n",
    "query = (\n",
    "    select(Base.classes.tracks.Name, func.sum(Base.classes.invoice_items.Quantity).label(\"total_sold\"))\n",
    "    .join(Base.classes.invoice_items, Base.classes.tracks.TrackId == Base.classes.invoice_items.TrackId)\n",
    "    .group_by(Base.classes.tracks.TrackId, Base.classes.tracks.Name)\n",
    "    .order_by(func.sum(Base.classes.invoice_items.Quantity).desc())\n",
    "    .limit(10)\n",
    ")\n",
    "result = session.execute(query).all()\n",
    "\n",
    "# Imprimir os resultados\n",
    "print(\"10 faixas mais vendidas e quantas vezes foram vendidas:\")\n",
    "for row in result:\n",
    "    print(f\"Track: {row.Name}, Total Sold: {row.total_sold}\")\n",
    "\n",
    "session.close()"
   ]
  },
  {
   "cell_type": "code",
   "execution_count": 8,
   "metadata": {
    "vscode": {
     "languageId": "plaintext"
    }
   },
   "outputs": [
    {
     "name": "stdout",
     "output_type": "stream",
     "text": [
      "10 artistas que mais venderam:\n",
      "Artist: Iron Maiden, Total Sold: 140\n",
      "Artist: U2, Total Sold: 107\n",
      "Artist: Metallica, Total Sold: 91\n",
      "Artist: Led Zeppelin, Total Sold: 87\n",
      "Artist: Os Paralamas Do Sucesso, Total Sold: 45\n",
      "Artist: Deep Purple, Total Sold: 44\n",
      "Artist: Faith No More, Total Sold: 42\n",
      "Artist: Lost, Total Sold: 41\n",
      "Artist: Eric Clapton, Total Sold: 40\n",
      "Artist: R.E.M., Total Sold: 39\n"
     ]
    }
   ],
   "source": [
    "### Quem são os 10 artistas que mais venderam?\n",
    "### dica: você precisa juntar as tabelas invoice_items, tracks, albums e artists\n",
    "from sqlalchemy.orm import Session\n",
    "from sqlalchemy import select, func\n",
    "\n",
    "session = Session(engine)\n",
    "\n",
    "# Selecionar os 10 artistas que mais venderam\n",
    "query = (\n",
    "    select(Base.classes.artists.Name, func.sum(Base.classes.invoice_items.Quantity).label(\"total_sold\"))\n",
    "    .join(Base.classes.albums, Base.classes.artists.ArtistId == Base.classes.albums.ArtistId)\n",
    "    .join(Base.classes.tracks, Base.classes.albums.AlbumId == Base.classes.tracks.AlbumId)\n",
    "    .join(Base.classes.invoice_items, Base.classes.tracks.TrackId == Base.classes.invoice_items.TrackId)\n",
    "    .group_by(Base.classes.artists.ArtistId, Base.classes.artists.Name)\n",
    "    .order_by(func.sum(Base.classes.invoice_items.Quantity).desc())\n",
    "    .limit(10)\n",
    ")\n",
    "result = session.execute(query).all()\n",
    "\n",
    "# Imprimir os resultados\n",
    "print(\"10 artistas que mais venderam:\")\n",
    "for row in result:\n",
    "    print(f\"Artist: {row.Name}, Total Sold: {row.total_sold}\")\n",
    "\n",
    "session.close()"
   ]
  },
  {
   "cell_type": "code",
   "execution_count": null,
   "metadata": {},
   "outputs": [],
   "source": []
  }
 ],
 "metadata": {
  "kernelspec": {
   "display_name": "Python 3 (ipykernel)",
   "language": "python",
   "name": "python3"
  },
  "language_info": {
   "codemirror_mode": {
    "name": "ipython",
    "version": 3
   },
   "file_extension": ".py",
   "mimetype": "text/x-python",
   "name": "python",
   "nbconvert_exporter": "python",
   "pygments_lexer": "ipython3",
   "version": "3.10.4"
  }
 },
 "nbformat": 4,
 "nbformat_minor": 4
}
